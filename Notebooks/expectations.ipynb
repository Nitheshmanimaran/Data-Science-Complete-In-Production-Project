{
 "cells": [
  {
   "cell_type": "markdown",
   "metadata": {},
   "source": [
    "# This notebook is a collection of expectations"
   ]
  },
  {
   "cell_type": "code",
   "execution_count": 1,
   "metadata": {},
   "outputs": [
    {
     "name": "stdout",
     "output_type": "stream",
     "text": [
      "2022-12-03T19:17:07+0100 - INFO - Great Expectations logging enabled at 20 level by JupyterUX module.\n",
      "Loaded ExpectationSuite \"one\" containing 11 expectations.\n"
     ]
    }
   ],
   "source": [
    "import datetime\n",
    "\n",
    "import pandas as pd\n",
    "\n",
    "import great_expectations as ge\n",
    "import great_expectations.jupyter_ux\n",
    "from great_expectations.core.expectation_configuration import ExpectationConfiguration\n",
    "from great_expectations.data_context.types.resource_identifiers import ExpectationSuiteIdentifier\n",
    "from great_expectations.exceptions import DataContextError\n",
    "\n",
    "context = ge.data_context.DataContext()\n",
    "\n",
    "\n",
    "# Feel free to change the name of your suite here. Renaming this will not remove the other one.\n",
    "expectation_suite_name = \"one\"\n",
    "try:\n",
    "    suite = context.get_expectation_suite(expectation_suite_name=expectation_suite_name)\n",
    "    print(f'Loaded ExpectationSuite \"{suite.expectation_suite_name}\" containing {len(suite.expectations)} expectations.')\n",
    "except DataContextError:\n",
    "    suite = context.create_expectation_suite(expectation_suite_name=expectation_suite_name)\n",
    "    print(f'Created ExpectationSuite \"{suite.expectation_suite_name}\".')"
   ]
  },
  {
   "cell_type": "markdown",
   "metadata": {},
   "source": [
    "# Table Expectations"
   ]
  },
  {
   "cell_type": "code",
   "execution_count": 5,
   "metadata": {},
   "outputs": [
    {
     "data": {
      "text/plain": [
       "{\"expectation_type\": \"expect_table_row_count_to_be_between\", \"meta\": {\"metric_name\": \"table.row_count\"}, \"kwargs\": {\"min_value\": 5, \"max_value\": 5}}"
      ]
     },
     "execution_count": 5,
     "metadata": {},
     "output_type": "execute_result"
    }
   ],
   "source": [
    "# Expectation to check if only 5 rows are present\n",
    "expectation_configuration = ExpectationConfiguration(\n",
    "    expectation_type=\"expect_table_row_count_to_be_between\",\n",
    "    kwargs={\"min_value\": 5, \"max_value\": 5},\n",
    "    meta = {\"metric_name\" : \"table.row_count\"},\n",
    "    )\n",
    "suite.add_expectation(expectation_configuration=expectation_configuration)"
   ]
  },
  {
   "cell_type": "code",
   "execution_count": 6,
   "metadata": {},
   "outputs": [
    {
     "data": {
      "text/plain": [
       "{\"expectation_type\": \"expect_table_columns_to_match_set\", \"meta\": {\"profiler_details\": {\"success_ratio\": 1.0}}, \"kwargs\": {\"column_set\": [\"destination_city\", \"arrival_time\", \"days_left\", \"class\", \"source_city\", \"stops\", \"departure_time\", \"airline\", \"duration\"]}}"
      ]
     },
     "execution_count": 6,
     "metadata": {},
     "output_type": "execute_result"
    }
   ],
   "source": [
    "# Expectation to check if the table columns match the expected columns\n",
    "expectation_configuration = ExpectationConfiguration(\n",
    "    expectation_type=\"expect_table_columns_to_match_set\",\n",
    "    kwargs={\"column_set\": [\n",
    "      \"destination_city\",\n",
    "      \"arrival_time\",\n",
    "      \"days_left\",\n",
    "      \"class\",\n",
    "      \"source_city\",\n",
    "      \"stops\",\n",
    "      \"departure_time\",\n",
    "      \"airline\",\n",
    "      \"duration\"\n",
    "    ]\n",
    "    },\n",
    "    meta = {\"profiler_details\" : {\"success_ratio\" : 1.0,}},\n",
    "    )\n",
    "suite.add_expectation(expectation_configuration=expectation_configuration)"
   ]
  },
  {
   "cell_type": "markdown",
   "metadata": {},
   "source": [
    "# Column Expectations"
   ]
  },
  {
   "cell_type": "code",
   "execution_count": 17,
   "metadata": {},
   "outputs": [
    {
     "data": {
      "text/plain": [
       "{\"expectation_type\": \"expect_column_values_to_not_be_null\", \"meta\": {\"profiler_details\": {\"success_ratio\": 1.0}}, \"kwargs\": {\"column\": \"destination_city\"}}"
      ]
     },
     "execution_count": 17,
     "metadata": {},
     "output_type": "execute_result"
    }
   ],
   "source": [
    "# Expectation to check if every column has no null values\n",
    "expectation_configuration = ExpectationConfiguration(\n",
    "    expectation_type=\"expect_column_values_to_not_be_null\",\n",
    "    kwargs={\"column\": \"destination_city\"},\n",
    "    meta = {\"profiler_details\" : {\"success_ratio\" : 1.0,}},\n",
    "    )\n",
    "suite.add_expectation(expectation_configuration=expectation_configuration)"
   ]
  },
  {
   "cell_type": "code",
   "execution_count": 18,
   "metadata": {},
   "outputs": [
    {
     "data": {
      "text/plain": [
       "{\"expectation_type\": \"expect_column_values_to_not_be_null\", \"meta\": {\"profiler_details\": {\"success_ratio\": 1.0}}, \"kwargs\": {\"column\": \"arrival_time\"}}"
      ]
     },
     "execution_count": 18,
     "metadata": {},
     "output_type": "execute_result"
    }
   ],
   "source": [
    "expectation_configuration = ExpectationConfiguration(\n",
    "    expectation_type=\"expect_column_values_to_not_be_null\",\n",
    "    kwargs={\"column\": \"arrival_time\"},\n",
    "    meta = {\"profiler_details\" : {\"success_ratio\" : 1.0,}},\n",
    "    )\n",
    "suite.add_expectation(expectation_configuration=expectation_configuration)"
   ]
  },
  {
   "cell_type": "code",
   "execution_count": 19,
   "metadata": {},
   "outputs": [
    {
     "data": {
      "text/plain": [
       "{\"expectation_type\": \"expect_column_values_to_not_be_null\", \"meta\": {\"profiler_details\": {\"success_ratio\": 1.0}}, \"kwargs\": {\"column\": \"days_left\"}}"
      ]
     },
     "execution_count": 19,
     "metadata": {},
     "output_type": "execute_result"
    }
   ],
   "source": [
    "expectation_configuration = ExpectationConfiguration(\n",
    "    expectation_type=\"expect_column_values_to_not_be_null\",\n",
    "    kwargs={\"column\": \"days_left\"},\n",
    "    meta = {\"profiler_details\" : {\"success_ratio\" : 1.0,}},\n",
    "    )\n",
    "suite.add_expectation(expectation_configuration=expectation_configuration)"
   ]
  },
  {
   "cell_type": "code",
   "execution_count": 20,
   "metadata": {},
   "outputs": [
    {
     "data": {
      "text/plain": [
       "{\"expectation_type\": \"expect_column_values_to_not_be_null\", \"meta\": {\"profiler_details\": {\"success_ratio\": 1.0}}, \"kwargs\": {\"column\": \"class\"}}"
      ]
     },
     "execution_count": 20,
     "metadata": {},
     "output_type": "execute_result"
    }
   ],
   "source": [
    "expectation_configuration = ExpectationConfiguration(\n",
    "    expectation_type=\"expect_column_values_to_not_be_null\",\n",
    "    kwargs={\"column\": \"class\"},\n",
    "    meta = {\"profiler_details\" : {\"success_ratio\" : 1.0,}},\n",
    "    )\n",
    "suite.add_expectation(expectation_configuration=expectation_configuration)"
   ]
  },
  {
   "cell_type": "code",
   "execution_count": 21,
   "metadata": {},
   "outputs": [
    {
     "data": {
      "text/plain": [
       "{\"expectation_type\": \"expect_column_values_to_not_be_null\", \"meta\": {\"profiler_details\": {\"success_ratio\": 1.0}}, \"kwargs\": {\"column\": \"source_city\"}}"
      ]
     },
     "execution_count": 21,
     "metadata": {},
     "output_type": "execute_result"
    }
   ],
   "source": [
    "expectation_configuration = ExpectationConfiguration(\n",
    "    expectation_type=\"expect_column_values_to_not_be_null\",\n",
    "    kwargs={\"column\": \"source_city\"},\n",
    "    meta = {\"profiler_details\" : {\"success_ratio\" : 1.0,}},\n",
    "    )\n",
    "suite.add_expectation(expectation_configuration=expectation_configuration)"
   ]
  },
  {
   "cell_type": "code",
   "execution_count": 22,
   "metadata": {},
   "outputs": [
    {
     "data": {
      "text/plain": [
       "{\"expectation_type\": \"expect_column_values_to_not_be_null\", \"meta\": {\"profiler_details\": {\"success_ratio\": 1.0}}, \"kwargs\": {\"column\": \"stops\"}}"
      ]
     },
     "execution_count": 22,
     "metadata": {},
     "output_type": "execute_result"
    }
   ],
   "source": [
    "expectation_configuration = ExpectationConfiguration(\n",
    "    expectation_type=\"expect_column_values_to_not_be_null\",\n",
    "    kwargs={\"column\": \"stops\"},\n",
    "    meta = {\"profiler_details\" : {\"success_ratio\" : 1.0,}},\n",
    "    )\n",
    "suite.add_expectation(expectation_configuration=expectation_configuration)"
   ]
  },
  {
   "cell_type": "code",
   "execution_count": 23,
   "metadata": {},
   "outputs": [
    {
     "data": {
      "text/plain": [
       "{\"expectation_type\": \"expect_column_values_to_not_be_null\", \"meta\": {\"profiler_details\": {\"success_ratio\": 1.0}}, \"kwargs\": {\"column\": \"departure_time\"}}"
      ]
     },
     "execution_count": 23,
     "metadata": {},
     "output_type": "execute_result"
    }
   ],
   "source": [
    "expectation_configuration = ExpectationConfiguration(\n",
    "    expectation_type=\"expect_column_values_to_not_be_null\",\n",
    "    kwargs={\"column\": \"departure_time\"},\n",
    "    meta = {\"profiler_details\" : {\"success_ratio\" : 1.0,}},\n",
    "    )\n",
    "suite.add_expectation(expectation_configuration=expectation_configuration)"
   ]
  },
  {
   "cell_type": "code",
   "execution_count": 24,
   "metadata": {},
   "outputs": [
    {
     "data": {
      "text/plain": [
       "{\"expectation_type\": \"expect_column_values_to_not_be_null\", \"meta\": {\"profiler_details\": {\"success_ratio\": 1.0}}, \"kwargs\": {\"column\": \"airline\"}}"
      ]
     },
     "execution_count": 24,
     "metadata": {},
     "output_type": "execute_result"
    }
   ],
   "source": [
    "expectation_configuration = ExpectationConfiguration(\n",
    "    expectation_type=\"expect_column_values_to_not_be_null\",\n",
    "    kwargs={\"column\": \"airline\"},\n",
    "    meta = {\"profiler_details\" : {\"success_ratio\" : 1.0,}},\n",
    "    )\n",
    "suite.add_expectation(expectation_configuration=expectation_configuration)"
   ]
  },
  {
   "cell_type": "code",
   "execution_count": 25,
   "metadata": {},
   "outputs": [
    {
     "data": {
      "text/plain": [
       "{\"expectation_type\": \"expect_column_values_to_not_be_null\", \"meta\": {\"profiler_details\": {\"success_ratio\": 1.0}}, \"kwargs\": {\"column\": \"duration\"}}"
      ]
     },
     "execution_count": 25,
     "metadata": {},
     "output_type": "execute_result"
    }
   ],
   "source": [
    "expectation_configuration = ExpectationConfiguration(\n",
    "    expectation_type=\"expect_column_values_to_not_be_null\",\n",
    "    kwargs={\"column\": \"duration\"},\n",
    "    meta = {\"profiler_details\" : {\"success_ratio\" : 1.0,}},\n",
    "    )\n",
    "suite.add_expectation(expectation_configuration=expectation_configuration)"
   ]
  },
  {
   "cell_type": "markdown",
   "metadata": {},
   "source": [
    "# Save Expectations"
   ]
  },
  {
   "cell_type": "code",
   "execution_count": 2,
   "metadata": {},
   "outputs": [
    {
     "name": "stdout",
     "output_type": "stream",
     "text": [
      "Added 11 expectations to ExpectationSuite \"one\".\n"
     ]
    }
   ],
   "source": [
    "print(f'Added {len(suite.expectations)} expectations to ExpectationSuite \"{suite.expectation_suite_name}\".')"
   ]
  },
  {
   "cell_type": "code",
   "execution_count": 3,
   "metadata": {},
   "outputs": [],
   "source": [
    "context.save_expectation_suite(expectation_suite_name=expectation_suite_name, expectation_suite=suite)\n",
    "\n",
    "suite_identifier = ExpectationSuiteIdentifier(expectation_suite_name=expectation_suite_name)\n",
    "context.build_data_docs(resource_identifiers=[suite_identifier])\n",
    "context.open_data_docs(resource_identifier=suite_identifier)"
   ]
  },
  {
   "cell_type": "markdown",
   "metadata": {},
   "source": [
    "# Validate Expectations"
   ]
  },
  {
   "cell_type": "code",
   "execution_count": 2,
   "metadata": {},
   "outputs": [
    {
     "name": "stdout",
     "output_type": "stream",
     "text": [
      "2022-12-04T17:36:18+0100 - INFO - Great Expectations logging enabled at 20 level by JupyterUX module.\n",
      "Loaded ExpectationSuite \"one\" containing 11 expectations.\n"
     ]
    },
    {
     "ename": "InvalidBatchRequestError",
     "evalue": "Validator could not be created because BatchRequest returned an empty batch_list.\n                Please check your parameters and try again.",
     "output_type": "error",
     "traceback": [
      "\u001b[1;31m---------------------------------------------------------------------------\u001b[0m",
      "\u001b[1;31mInvalidBatchRequestError\u001b[0m                  Traceback (most recent call last)",
      "Cell \u001b[1;32mIn [2], line 24\u001b[0m\n\u001b[0;32m     20\u001b[0m     \u001b[39mprint\u001b[39m(\u001b[39mf\u001b[39m\u001b[39m'\u001b[39m\u001b[39mCreated ExpectationSuite \u001b[39m\u001b[39m\"\u001b[39m\u001b[39m{\u001b[39;00msuite\u001b[39m.\u001b[39mexpectation_suite_name\u001b[39m}\u001b[39;00m\u001b[39m\"\u001b[39m\u001b[39m.\u001b[39m\u001b[39m'\u001b[39m)\n\u001b[0;32m     22\u001b[0m batch_request \u001b[39m=\u001b[39m {\u001b[39m'\u001b[39m\u001b[39mdatasource_name\u001b[39m\u001b[39m'\u001b[39m: \u001b[39m'\u001b[39m\u001b[39mmy_datasource\u001b[39m\u001b[39m'\u001b[39m, \u001b[39m'\u001b[39m\u001b[39mdata_connector_name\u001b[39m\u001b[39m'\u001b[39m: \u001b[39m'\u001b[39m\u001b[39mdefault_inferred_data_connector_name\u001b[39m\u001b[39m'\u001b[39m, \u001b[39m'\u001b[39m\u001b[39mdata_asset_name\u001b[39m\u001b[39m'\u001b[39m: \u001b[39m'\u001b[39m\u001b[39m2022-46-03_15-46-38.csv\u001b[39m\u001b[39m'\u001b[39m, \u001b[39m'\u001b[39m\u001b[39mlimit\u001b[39m\u001b[39m'\u001b[39m: \u001b[39m1000\u001b[39m}\n\u001b[1;32m---> 24\u001b[0m validator \u001b[39m=\u001b[39m context\u001b[39m.\u001b[39;49mget_validator(\n\u001b[0;32m     25\u001b[0m     batch_request\u001b[39m=\u001b[39;49mBatchRequest(\u001b[39m*\u001b[39;49m\u001b[39m*\u001b[39;49mbatch_request),\n\u001b[0;32m     26\u001b[0m     expectation_suite_name\u001b[39m=\u001b[39;49mexpectation_suite_name\n\u001b[0;32m     27\u001b[0m )\n",
      "File \u001b[1;32mc:\\Users\\nithe\\AppData\\Local\\Programs\\Python\\Python310\\lib\\site-packages\\great_expectations\\data_context\\data_context\\abstract_data_context.py:1505\u001b[0m, in \u001b[0;36mAbstractDataContext.get_validator\u001b[1;34m(self, datasource_name, data_connector_name, data_asset_name, batch, batch_list, batch_request, batch_request_list, batch_data, data_connector_query, batch_identifiers, limit, index, custom_filter_function, sampling_method, sampling_kwargs, splitter_method, splitter_kwargs, runtime_parameters, query, path, batch_filter_parameters, expectation_suite_ge_cloud_id, batch_spec_passthrough, expectation_suite_name, expectation_suite, create_expectation_suite_with_name, include_rendered_content, **kwargs)\u001b[0m\n\u001b[0;32m   1479\u001b[0m     \u001b[39mfor\u001b[39;00m batch_request \u001b[39min\u001b[39;00m batch_request_list:\n\u001b[0;32m   1480\u001b[0m         batch_list\u001b[39m.\u001b[39mextend(\n\u001b[0;32m   1481\u001b[0m             \u001b[39mself\u001b[39m\u001b[39m.\u001b[39mget_batch_list(\n\u001b[0;32m   1482\u001b[0m                 datasource_name\u001b[39m=\u001b[39mdatasource_name,\n\u001b[1;32m   (...)\u001b[0m\n\u001b[0;32m   1502\u001b[0m             )\n\u001b[0;32m   1503\u001b[0m         )\n\u001b[1;32m-> 1505\u001b[0m \u001b[39mreturn\u001b[39;00m \u001b[39mself\u001b[39;49m\u001b[39m.\u001b[39;49mget_validator_using_batch_list(\n\u001b[0;32m   1506\u001b[0m     expectation_suite\u001b[39m=\u001b[39;49mexpectation_suite,  \u001b[39m# type: ignore[arg-type]\u001b[39;49;00m\n\u001b[0;32m   1507\u001b[0m     batch_list\u001b[39m=\u001b[39;49mbatch_list,\n\u001b[0;32m   1508\u001b[0m     include_rendered_content\u001b[39m=\u001b[39;49minclude_rendered_content,\n\u001b[0;32m   1509\u001b[0m )\n",
      "File \u001b[1;32mc:\\Users\\nithe\\AppData\\Local\\Programs\\Python\\Python310\\lib\\site-packages\\great_expectations\\data_context\\data_context\\abstract_data_context.py:1531\u001b[0m, in \u001b[0;36mAbstractDataContext.get_validator_using_batch_list\u001b[1;34m(self, expectation_suite, batch_list, include_rendered_content, **kwargs)\u001b[0m\n\u001b[0;32m   1519\u001b[0m \u001b[39m\"\"\"\u001b[39;00m\n\u001b[0;32m   1520\u001b[0m \n\u001b[0;32m   1521\u001b[0m \u001b[39mArgs:\u001b[39;00m\n\u001b[1;32m   (...)\u001b[0m\n\u001b[0;32m   1528\u001b[0m \n\u001b[0;32m   1529\u001b[0m \u001b[39m\"\"\"\u001b[39;00m\n\u001b[0;32m   1530\u001b[0m \u001b[39mif\u001b[39;00m \u001b[39mlen\u001b[39m(batch_list) \u001b[39m==\u001b[39m \u001b[39m0\u001b[39m:\n\u001b[1;32m-> 1531\u001b[0m     \u001b[39mraise\u001b[39;00m ge_exceptions\u001b[39m.\u001b[39mInvalidBatchRequestError(\n\u001b[0;32m   1532\u001b[0m         \u001b[39m\"\"\"Validator could not be created because BatchRequest returned an empty batch_list.\u001b[39;00m\n\u001b[0;32m   1533\u001b[0m \u001b[39m        Please check your parameters and try again.\"\"\"\u001b[39;00m\n\u001b[0;32m   1534\u001b[0m     )\n\u001b[0;32m   1536\u001b[0m include_rendered_content \u001b[39m=\u001b[39m (\n\u001b[0;32m   1537\u001b[0m     \u001b[39mself\u001b[39m\u001b[39m.\u001b[39m_determine_if_expectation_validation_result_include_rendered_content(\n\u001b[0;32m   1538\u001b[0m         include_rendered_content\u001b[39m=\u001b[39minclude_rendered_content\n\u001b[0;32m   1539\u001b[0m     )\n\u001b[0;32m   1540\u001b[0m )\n\u001b[0;32m   1542\u001b[0m \u001b[39m# We get a single batch_definition so we can get the execution_engine here. All batches will share the same one\u001b[39;00m\n\u001b[0;32m   1543\u001b[0m \u001b[39m# So the batch itself doesn't matter. But we use -1 because that will be the latest batch loaded.\u001b[39;00m\n",
      "\u001b[1;31mInvalidBatchRequestError\u001b[0m: Validator could not be created because BatchRequest returned an empty batch_list.\n                Please check your parameters and try again."
     ]
    }
   ],
   "source": [
    "import datetime\n",
    "\n",
    "import pandas as pd\n",
    "\n",
    "import great_expectations as ge\n",
    "import great_expectations.jupyter_ux\n",
    "from great_expectations.core.batch import BatchRequest\n",
    "from great_expectations.checkpoint import SimpleCheckpoint\n",
    "from great_expectations.exceptions import DataContextError\n",
    "\n",
    "context = ge.data_context.DataContext()\n",
    "\n",
    "# Feel free to change the name of your suite here. Renaming this will not remove the other one.\n",
    "expectation_suite_name = \"one\"\n",
    "try:\n",
    "    suite = context.get_expectation_suite(expectation_suite_name=expectation_suite_name)\n",
    "    print(f'Loaded ExpectationSuite \"{suite.expectation_suite_name}\" containing {len(suite.expectations)} expectations.')\n",
    "except DataContextError:\n",
    "    suite = context.create_expectation_suite(expectation_suite_name=expectation_suite_name)\n",
    "    print(f'Created ExpectationSuite \"{suite.expectation_suite_name}\".')\n",
    "\n",
    "batch_request = {'datasource_name': 'my_datasource', 'data_connector_name': 'default_inferred_data_connector_name', 'data_asset_name': '2022-46-03_15-46-38.csv', 'limit': 1000}\n",
    "\n",
    "validator = context.get_validator(\n",
    "    batch_request=BatchRequest(**batch_request),\n",
    "    expectation_suite_name=expectation_suite_name\n",
    ")"
   ]
  },
  {
   "cell_type": "code",
   "execution_count": 40,
   "metadata": {},
   "outputs": [
    {
     "name": "stdout",
     "output_type": "stream",
     "text": [
      "2022-12-03T22:13:43+0100 - INFO - \t11 expectation(s) included in expectation_suite.\n"
     ]
    },
    {
     "data": {
      "application/vnd.jupyter.widget-view+json": {
       "model_id": "0f5da5e5d39f4d93a5f218afd6434b08",
       "version_major": 2,
       "version_minor": 0
      },
      "text/plain": [
       "Calculating Metrics:   0%|          | 0/30 [00:00<?, ?it/s]"
      ]
     },
     "metadata": {},
     "output_type": "display_data"
    },
    {
     "name": "stdout",
     "output_type": "stream",
     "text": [
      "Validation of 2022-46-03_15-46-38.csv was successful!\n",
      "2022-12-03T22:13:44+0100 - INFO - \t11 expectation(s) included in expectation_suite.\n"
     ]
    },
    {
     "data": {
      "application/vnd.jupyter.widget-view+json": {
       "model_id": "38e4c0ff34e449a580717d982aa2bfcc",
       "version_major": 2,
       "version_minor": 0
      },
      "text/plain": [
       "Calculating Metrics:   0%|          | 0/30 [00:00<?, ?it/s]"
      ]
     },
     "metadata": {},
     "output_type": "display_data"
    },
    {
     "name": "stdout",
     "output_type": "stream",
     "text": [
      "Validation of 2022-46-03_15-46-55.csv was successful!\n",
      "2022-12-03T22:13:45+0100 - INFO - \t11 expectation(s) included in expectation_suite.\n"
     ]
    },
    {
     "data": {
      "application/vnd.jupyter.widget-view+json": {
       "model_id": "4b065b6b4dfd45a0ac694f42d4f9db57",
       "version_major": 2,
       "version_minor": 0
      },
      "text/plain": [
       "Calculating Metrics:   0%|          | 0/30 [00:00<?, ?it/s]"
      ]
     },
     "metadata": {},
     "output_type": "display_data"
    },
    {
     "name": "stdout",
     "output_type": "stream",
     "text": [
      "Validation of 2022-47-03_15-47-03.csv was successful!\n",
      "2022-12-03T22:13:46+0100 - INFO - \t11 expectation(s) included in expectation_suite.\n"
     ]
    },
    {
     "data": {
      "application/vnd.jupyter.widget-view+json": {
       "model_id": "0bb2a2ec65434ff88674681f51a4ee8a",
       "version_major": 2,
       "version_minor": 0
      },
      "text/plain": [
       "Calculating Metrics:   0%|          | 0/30 [00:00<?, ?it/s]"
      ]
     },
     "metadata": {},
     "output_type": "display_data"
    },
    {
     "name": "stdout",
     "output_type": "stream",
     "text": [
      "Validation of 2022-47-03_15-47-28.csv was successful!\n",
      "2022-12-03T22:13:46+0100 - INFO - \t11 expectation(s) included in expectation_suite.\n"
     ]
    },
    {
     "data": {
      "application/vnd.jupyter.widget-view+json": {
       "model_id": "77d9d7522a834f2e800348ad30d522be",
       "version_major": 2,
       "version_minor": 0
      },
      "text/plain": [
       "Calculating Metrics:   0%|          | 0/30 [00:00<?, ?it/s]"
      ]
     },
     "metadata": {},
     "output_type": "display_data"
    },
    {
     "name": "stdout",
     "output_type": "stream",
     "text": [
      "Validation of 2022-47-03_15-47-41.csv was successful!\n",
      "2022-12-03T22:13:47+0100 - INFO - \t11 expectation(s) included in expectation_suite.\n"
     ]
    },
    {
     "data": {
      "application/vnd.jupyter.widget-view+json": {
       "model_id": "49c179400dff4544b1a490dd6205f06e",
       "version_major": 2,
       "version_minor": 0
      },
      "text/plain": [
       "Calculating Metrics:   0%|          | 0/30 [00:00<?, ?it/s]"
      ]
     },
     "metadata": {},
     "output_type": "display_data"
    },
    {
     "name": "stdout",
     "output_type": "stream",
     "text": [
      "Validation of 2022-47-03_15-47-49.csv was successful!\n",
      "2022-12-03T22:13:48+0100 - INFO - \t11 expectation(s) included in expectation_suite.\n"
     ]
    },
    {
     "data": {
      "application/vnd.jupyter.widget-view+json": {
       "model_id": "ab3a128c661241c287895b44b4826c37",
       "version_major": 2,
       "version_minor": 0
      },
      "text/plain": [
       "Calculating Metrics:   0%|          | 0/30 [00:00<?, ?it/s]"
      ]
     },
     "metadata": {},
     "output_type": "display_data"
    },
    {
     "name": "stdout",
     "output_type": "stream",
     "text": [
      "Validation of 2022-48-03_15-48-11.csv was successful!\n",
      "2022-12-03T22:13:49+0100 - INFO - \t11 expectation(s) included in expectation_suite.\n"
     ]
    },
    {
     "data": {
      "application/vnd.jupyter.widget-view+json": {
       "model_id": "6ee2827a0d2f4c93912337b5e0fa0153",
       "version_major": 2,
       "version_minor": 0
      },
      "text/plain": [
       "Calculating Metrics:   0%|          | 0/30 [00:00<?, ?it/s]"
      ]
     },
     "metadata": {},
     "output_type": "display_data"
    },
    {
     "name": "stdout",
     "output_type": "stream",
     "text": [
      "Validation of 2022-48-03_15-48-25.csv was successful!\n",
      "2022-12-03T22:13:50+0100 - INFO - \t11 expectation(s) included in expectation_suite.\n"
     ]
    },
    {
     "data": {
      "application/vnd.jupyter.widget-view+json": {
       "model_id": "95e52e66d5f14ebba13e77eb4a99c979",
       "version_major": 2,
       "version_minor": 0
      },
      "text/plain": [
       "Calculating Metrics:   0%|          | 0/30 [00:00<?, ?it/s]"
      ]
     },
     "metadata": {},
     "output_type": "display_data"
    },
    {
     "name": "stdout",
     "output_type": "stream",
     "text": [
      "Validation of 2022-48-03_15-48-39.csv was successful!\n",
      "2022-12-03T22:13:50+0100 - INFO - \t11 expectation(s) included in expectation_suite.\n"
     ]
    },
    {
     "data": {
      "application/vnd.jupyter.widget-view+json": {
       "model_id": "0e530463bb314934a420565a5e915fb7",
       "version_major": 2,
       "version_minor": 0
      },
      "text/plain": [
       "Calculating Metrics:   0%|          | 0/30 [00:00<?, ?it/s]"
      ]
     },
     "metadata": {},
     "output_type": "display_data"
    },
    {
     "name": "stdout",
     "output_type": "stream",
     "text": [
      "Validation of 2022-48-03_15-48-47.csv was successful!\n",
      "2022-12-03T22:13:51+0100 - INFO - \t11 expectation(s) included in expectation_suite.\n"
     ]
    },
    {
     "data": {
      "application/vnd.jupyter.widget-view+json": {
       "model_id": "e8f3e63359f949d8a3a124b327bcb3a9",
       "version_major": 2,
       "version_minor": 0
      },
      "text/plain": [
       "Calculating Metrics:   0%|          | 0/30 [00:00<?, ?it/s]"
      ]
     },
     "metadata": {},
     "output_type": "display_data"
    },
    {
     "name": "stdout",
     "output_type": "stream",
     "text": [
      "Validation of 2022-49-03_15-49-11.csv was successful!\n",
      "2022-12-03T22:13:52+0100 - INFO - \t11 expectation(s) included in expectation_suite.\n"
     ]
    },
    {
     "data": {
      "application/vnd.jupyter.widget-view+json": {
       "model_id": "01316da245614595ab13fc5f6fe18249",
       "version_major": 2,
       "version_minor": 0
      },
      "text/plain": [
       "Calculating Metrics:   0%|          | 0/30 [00:00<?, ?it/s]"
      ]
     },
     "metadata": {},
     "output_type": "display_data"
    },
    {
     "name": "stdout",
     "output_type": "stream",
     "text": [
      "Validation of 2022-49-03_15-49-27.csv was successful!\n",
      "2022-12-03T22:13:53+0100 - INFO - \t11 expectation(s) included in expectation_suite.\n"
     ]
    },
    {
     "data": {
      "application/vnd.jupyter.widget-view+json": {
       "model_id": "32a480b7d45e4a4593699ce059907631",
       "version_major": 2,
       "version_minor": 0
      },
      "text/plain": [
       "Calculating Metrics:   0%|          | 0/30 [00:00<?, ?it/s]"
      ]
     },
     "metadata": {},
     "output_type": "display_data"
    },
    {
     "name": "stdout",
     "output_type": "stream",
     "text": [
      "Validation of Flights50.csv failed.\n"
     ]
    }
   ],
   "source": [
    "import os\n",
    "\n",
    "for file in os.listdir('output_data'):\n",
    "    batch_request = {'datasource_name': 'my_datasource', 'data_connector_name': 'default_inferred_data_connector_name', 'data_asset_name': file, 'limit': 1000}\n",
    "    validator = context.get_validator(\n",
    "        batch_request=BatchRequest(**batch_request),\n",
    "        expectation_suite_name=expectation_suite_name\n",
    "    )\n",
    "\n",
    "    results = validator.validate()\n",
    "    # Getting the success of the validation\n",
    "    if results['success']:\n",
    "        print(f\"Validation of {file} was successful!\")\n",
    "    else:\n",
    "        print(f\"Validation of {file} failed.\")\n",
    "    "
   ]
  },
  {
   "cell_type": "code",
   "execution_count": 1,
   "metadata": {},
   "outputs": [
    {
     "name": "stderr",
     "output_type": "stream",
     "text": [
      "WARNING:root:OSError while attempting to symlink the latest log directory\n"
     ]
    },
    {
     "name": "stdout",
     "output_type": "stream",
     "text": [
      "[\u001b[34m2022-12-05 14:23:32,178\u001b[0m] {\u001b[34mmetadatasource.py:\u001b[0m47} INFO\u001b[0m - Datasources: 1\u001b[0m\n",
      "[\u001b[34m2022-12-05 14:23:32,178\u001b[0m] {\u001b[34mtype_lookup.py:\u001b[0m128} INFO\u001b[0m - Beginning TypeLookup transaction\u001b[0m\n",
      "[\u001b[34m2022-12-05 14:23:32,178\u001b[0m] {\u001b[34msources.py:\u001b[0m134} INFO\u001b[0m - 2b. Registering `DataAsset` `TableAsset` as table\u001b[0m\n",
      "[\u001b[34m2022-12-05 14:23:32,185\u001b[0m] {\u001b[34msources.py:\u001b[0m102} INFO\u001b[0m - 2a. Registering PostgresDatasource as postgres with add_postgres() factory\u001b[0m\n",
      "[\u001b[34m2022-12-05 14:23:32,187\u001b[0m] {\u001b[34msources.py:\u001b[0m113} INFO\u001b[0m - 'postgres' added to `type_lookup`\u001b[0m\n",
      "[\u001b[34m2022-12-05 14:23:32,187\u001b[0m] {\u001b[34mtype_lookup.py:\u001b[0m139} INFO\u001b[0m - Transaction committing items\u001b[0m\n",
      "[\u001b[34m2022-12-05 14:23:32,187\u001b[0m] {\u001b[34mtype_lookup.py:\u001b[0m140} INFO\u001b[0m - Completed TypeLookup transaction\u001b[0m\n",
      "2022-12-05_14-23-37.csv\n",
      "[\u001b[34m2022-12-05 14:23:37,814\u001b[0m] {\u001b[34mvalidator.py:\u001b[0m1498} INFO\u001b[0m - \t11 expectation(s) included in expectation_suite.\u001b[0m\n"
     ]
    },
    {
     "data": {
      "application/vnd.jupyter.widget-view+json": {
       "model_id": "65a9f94963634725b57ad30f46df361d",
       "version_major": 2,
       "version_minor": 0
      },
      "text/plain": [
       "Calculating Metrics:   0%|          | 0/30 [00:00<?, ?it/s]"
      ]
     },
     "metadata": {},
     "output_type": "display_data"
    },
    {
     "name": "stdout",
     "output_type": "stream",
     "text": [
      "Data saved in Folder C\n"
     ]
    }
   ],
   "source": [
    "import logging\n",
    "from datetime import datetime\n",
    "from datetime import timedelta\n",
    "import warnings\n",
    "import pandas as pd\n",
    "from airflow.decorators import dag, task\n",
    "from airflow.utils.dates import days_ago\n",
    "import great_expectations as ge\n",
    "from great_expectations.core.batch import BatchRequest\n",
    "warnings.filterwarnings(\"ignore\")\n",
    "\n",
    "\n",
    "def get_data_to_ingest_from_local_file() -> pd.DataFrame:\n",
    "    nb_rows = 5\n",
    "    filepath = 'D:/EPITA/dsp/flight_v3/dsp-project-dsp-flight/airflow/input_data/Flights50.csv'\n",
    "    input_data_df = pd.read_csv(filepath)\n",
    "    #logging.info(f'Extract {nb_rows} from the file {filepath}')\n",
    "    data_to_ingest_df = input_data_df.sample(n=nb_rows)\n",
    "    return data_to_ingest_df\n",
    "\n",
    "def save_data(data_to_ingest_df: pd.DataFrame) -> None:\n",
    "    file = datetime.now().strftime(\"%Y-%m-%d_%H-%M-%S\") + \".csv\"\n",
    "    filepath = f'D:/EPITA/dsp/flight_v3/dsp-project-dsp-flight/airflow/folder_A/{file}'\n",
    "    data_to_ingest_df.to_csv(filepath, index=False)\n",
    "    print(file)\n",
    "\n",
    "    if validate_data(file):\n",
    "        filepath = f'D:/EPITA/dsp/flight_v3/dsp-project-dsp-flight/airflow/folder_C/{file}'\n",
    "        data_to_ingest_df.to_csv(filepath, index=False)\n",
    "        print(\"Data saved in Folder C\")\n",
    "    else:\n",
    "        filepath = f'D:/EPITA/dsp/flight_v3/dsp-project-dsp-flight/airflow/folder_B/{file}'\n",
    "        data_to_ingest_df.to_csv(filepath, index=False)\n",
    "        print(\"Data saved in Folder B\")\n",
    "\n",
    "def validate_data(file):\n",
    "    context = ge.data_context.DataContext()\n",
    "    expectation_suite_name = \"one\"\n",
    "    batch_request = {\n",
    "        'datasource_name': 'my_datasource',\n",
    "        'data_connector_name': 'default_inferred_data_connector_name',\n",
    "        'data_asset_name': file,\n",
    "        'limit': 1000}\n",
    "    validator = context.get_validator(\n",
    "        batch_request=BatchRequest(**batch_request),\n",
    "        expectation_suite_name=expectation_suite_name\n",
    "        )\n",
    "    results = validator.validate()\n",
    "       \n",
    "    return results['success']\n",
    "\n",
    "data_to_ingest = get_data_to_ingest_from_local_file()\n",
    "save_data(data_to_ingest)"
   ]
  },
  {
   "cell_type": "code",
   "execution_count": 2,
   "metadata": {},
   "outputs": [
    {
     "name": "stdout",
     "output_type": "stream",
     "text": [
      "2022-12-05_14-24-03.csv\n",
      "[\u001b[34m2022-12-05 14:24:04,274\u001b[0m] {\u001b[34mvalidator.py:\u001b[0m1498} INFO\u001b[0m - \t11 expectation(s) included in expectation_suite.\u001b[0m\n"
     ]
    },
    {
     "data": {
      "application/vnd.jupyter.widget-view+json": {
       "model_id": "6481e35c0c21405ab8dc72c6fc69c6d5",
       "version_major": 2,
       "version_minor": 0
      },
      "text/plain": [
       "Calculating Metrics:   0%|          | 0/30 [00:00<?, ?it/s]"
      ]
     },
     "metadata": {},
     "output_type": "display_data"
    },
    {
     "name": "stdout",
     "output_type": "stream",
     "text": [
      "Data saved in Folder B\n"
     ]
    }
   ],
   "source": [
    "import logging\n",
    "from datetime import datetime\n",
    "from datetime import timedelta\n",
    "import warnings\n",
    "import pandas as pd\n",
    "from airflow.decorators import dag, task\n",
    "from airflow.utils.dates import days_ago\n",
    "import great_expectations as ge\n",
    "from great_expectations.core.batch import BatchRequest\n",
    "warnings.filterwarnings(\"ignore\")\n",
    "\n",
    "\n",
    "def get_data_to_ingest_from_local_file() -> pd.DataFrame:\n",
    "    nb_rows = 5\n",
    "    filepath = 'D:/EPITA/dsp/flight_v3/dsp-project-dsp-flight/airflow/input_data/Flights50.csv'\n",
    "    input_data_df = pd.read_csv(filepath)\n",
    "    #logging.info(f'Extract {nb_rows} from the file {filepath}')\n",
    "    data_to_ingest_df = input_data_df.sample(n=nb_rows)\n",
    "    return data_to_ingest_df\n",
    "\n",
    "def save_data(data_to_ingest_df: pd.DataFrame) -> None:\n",
    "    file = datetime.now().strftime(\"%Y-%m-%d_%H-%M-%S\") + \".csv\"\n",
    "    filepath = f'D:/EPITA/dsp/flight_v3/dsp-project-dsp-flight/airflow/folder_A/{file}'\n",
    "    data_to_ingest_df.to_csv(filepath, index=False)\n",
    "    print(file)\n",
    "    validate_data(file, data_to_ingest_df)\n",
    "\n",
    "def validate_data(file, data_to_ingest_df):\n",
    "    context = ge.data_context.DataContext()\n",
    "    expectation_suite_name = \"one\"\n",
    "    batch_request = {\n",
    "        'datasource_name': 'my_datasource',\n",
    "        'data_connector_name': 'default_inferred_data_connector_name',\n",
    "        'data_asset_name': file,\n",
    "        'limit': 1000}\n",
    "    validator = context.get_validator(\n",
    "        batch_request=BatchRequest(**batch_request),\n",
    "        expectation_suite_name=expectation_suite_name\n",
    "        )\n",
    "    results = validator.validate()\n",
    "    \n",
    "    if results['success'] == True:\n",
    "        filepath = f'D:/EPITA/dsp/flight_v3/dsp-project-dsp-flight/airflow/folder_C/{file}'\n",
    "        data_to_ingest_df.to_csv(filepath, index=False)\n",
    "        print(\"Data saved in Folder C\")\n",
    "    else:\n",
    "        filepath = f'D:/EPITA/dsp/flight_v3/dsp-project-dsp-flight/airflow/folder_B/{file}'\n",
    "        data_to_ingest_df.to_csv(filepath, index=False)\n",
    "        print(\"Data saved in Folder B\")\n",
    "\n",
    "data_to_ingest = get_data_to_ingest_from_local_file()\n",
    "save_data(data_to_ingest)"
   ]
  },
  {
   "cell_type": "code",
   "execution_count": null,
   "metadata": {},
   "outputs": [],
   "source": []
  }
 ],
 "metadata": {
  "kernelspec": {
   "display_name": "Python 3.10.8 64-bit",
   "language": "python",
   "name": "python3"
  },
  "language_info": {
   "codemirror_mode": {
    "name": "ipython",
    "version": 3
   },
   "file_extension": ".py",
   "mimetype": "text/x-python",
   "name": "python",
   "nbconvert_exporter": "python",
   "pygments_lexer": "ipython3",
   "version": "3.10.8"
  },
  "orig_nbformat": 4,
  "vscode": {
   "interpreter": {
    "hash": "66f7e79fea8e8fd5a5188cf1932b28c9f36338f193f6d39b27cf266f2be62259"
   }
  }
 },
 "nbformat": 4,
 "nbformat_minor": 2
}
