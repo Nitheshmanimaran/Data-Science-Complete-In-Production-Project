{
 "cells": [
  {
   "cell_type": "code",
   "execution_count": 1,
   "metadata": {},
   "outputs": [],
   "source": [
    "import pandas as pd\n",
    "import numpy as np\n",
    "import matplotlib.pyplot as plt\n",
    "import seaborn as sns\n",
    "\n",
    "from sklearn.model_selection import train_test_split\n",
    "from sklearn.preprocessing import StandardScaler\n",
    "from sklearn.linear_model import LinearRegression\n",
    "from sklearn.ensemble import RandomForestRegressor\n"
   ]
  },
  {
   "cell_type": "code",
   "execution_count": 2,
   "metadata": {},
   "outputs": [],
   "source": [
    "# Importing the dataset\n",
    "dataset = pd.read_csv('Flights.csv')"
   ]
  },
  {
   "cell_type": "code",
   "execution_count": 3,
   "metadata": {},
   "outputs": [
    {
     "data": {
      "text/html": [
       "<div>\n",
       "<style scoped>\n",
       "    .dataframe tbody tr th:only-of-type {\n",
       "        vertical-align: middle;\n",
       "    }\n",
       "\n",
       "    .dataframe tbody tr th {\n",
       "        vertical-align: top;\n",
       "    }\n",
       "\n",
       "    .dataframe thead th {\n",
       "        text-align: right;\n",
       "    }\n",
       "</style>\n",
       "<table border=\"1\" class=\"dataframe\">\n",
       "  <thead>\n",
       "    <tr style=\"text-align: right;\">\n",
       "      <th></th>\n",
       "      <th>Unnamed: 0</th>\n",
       "      <th>airline</th>\n",
       "      <th>flight</th>\n",
       "      <th>source_city</th>\n",
       "      <th>departure_time</th>\n",
       "      <th>stops</th>\n",
       "      <th>arrival_time</th>\n",
       "      <th>destination_city</th>\n",
       "      <th>class</th>\n",
       "      <th>duration</th>\n",
       "      <th>days_left</th>\n",
       "      <th>price</th>\n",
       "    </tr>\n",
       "  </thead>\n",
       "  <tbody>\n",
       "    <tr>\n",
       "      <th>176701</th>\n",
       "      <td>6660</td>\n",
       "      <td>Air_India</td>\n",
       "      <td>AI-805</td>\n",
       "      <td>Delhi</td>\n",
       "      <td>Evening</td>\n",
       "      <td>zero</td>\n",
       "      <td>Night</td>\n",
       "      <td>Mumbai</td>\n",
       "      <td>Economy</td>\n",
       "      <td>2.17</td>\n",
       "      <td>34</td>\n",
       "      <td>2476</td>\n",
       "    </tr>\n",
       "    <tr>\n",
       "      <th>151696</th>\n",
       "      <td>88571</td>\n",
       "      <td>SpiceJet</td>\n",
       "      <td>SG-531</td>\n",
       "      <td>Bangalore</td>\n",
       "      <td>Morning</td>\n",
       "      <td>one</td>\n",
       "      <td>Evening</td>\n",
       "      <td>Delhi</td>\n",
       "      <td>Economy</td>\n",
       "      <td>9.42</td>\n",
       "      <td>24</td>\n",
       "      <td>4336</td>\n",
       "    </tr>\n",
       "    <tr>\n",
       "      <th>118249</th>\n",
       "      <td>162575</td>\n",
       "      <td>Vistara</td>\n",
       "      <td>UK-898</td>\n",
       "      <td>Hyderabad</td>\n",
       "      <td>Early_Morning</td>\n",
       "      <td>one</td>\n",
       "      <td>Night</td>\n",
       "      <td>Mumbai</td>\n",
       "      <td>Economy</td>\n",
       "      <td>15.75</td>\n",
       "      <td>30</td>\n",
       "      <td>3471</td>\n",
       "    </tr>\n",
       "    <tr>\n",
       "      <th>81674</th>\n",
       "      <td>231455</td>\n",
       "      <td>Vistara</td>\n",
       "      <td>UK-902</td>\n",
       "      <td>Mumbai</td>\n",
       "      <td>Afternoon</td>\n",
       "      <td>one</td>\n",
       "      <td>Morning</td>\n",
       "      <td>Bangalore</td>\n",
       "      <td>Business</td>\n",
       "      <td>16.92</td>\n",
       "      <td>18</td>\n",
       "      <td>74365</td>\n",
       "    </tr>\n",
       "    <tr>\n",
       "      <th>133980</th>\n",
       "      <td>43035</td>\n",
       "      <td>GO_FIRST</td>\n",
       "      <td>G8-351</td>\n",
       "      <td>Mumbai</td>\n",
       "      <td>Morning</td>\n",
       "      <td>one</td>\n",
       "      <td>Night</td>\n",
       "      <td>Delhi</td>\n",
       "      <td>Economy</td>\n",
       "      <td>13.50</td>\n",
       "      <td>1</td>\n",
       "      <td>5942</td>\n",
       "    </tr>\n",
       "  </tbody>\n",
       "</table>\n",
       "</div>"
      ],
      "text/plain": [
       "        Unnamed: 0    airline  flight source_city departure_time stops  \\\n",
       "176701        6660  Air_India  AI-805       Delhi        Evening  zero   \n",
       "151696       88571   SpiceJet  SG-531   Bangalore        Morning   one   \n",
       "118249      162575    Vistara  UK-898   Hyderabad  Early_Morning   one   \n",
       "81674       231455    Vistara  UK-902      Mumbai      Afternoon   one   \n",
       "133980       43035   GO_FIRST  G8-351      Mumbai        Morning   one   \n",
       "\n",
       "       arrival_time destination_city     class  duration  days_left  price  \n",
       "176701        Night           Mumbai   Economy      2.17         34   2476  \n",
       "151696      Evening            Delhi   Economy      9.42         24   4336  \n",
       "118249        Night           Mumbai   Economy     15.75         30   3471  \n",
       "81674       Morning        Bangalore  Business     16.92         18  74365  \n",
       "133980        Night            Delhi   Economy     13.50          1   5942  "
      ]
     },
     "execution_count": 3,
     "metadata": {},
     "output_type": "execute_result"
    }
   ],
   "source": [
    "data = dataset.copy()\n",
    "data.sample(5)"
   ]
  },
  {
   "cell_type": "code",
   "execution_count": 4,
   "metadata": {},
   "outputs": [],
   "source": [
    "# Dropping unnamed, flight, duration columns\n",
    "data.drop(['Unnamed: 0', 'flight', 'duration'], axis=1, inplace=True)\n"
   ]
  },
  {
   "cell_type": "code",
   "execution_count": 5,
   "metadata": {},
   "outputs": [
    {
     "data": {
      "text/html": [
       "<div>\n",
       "<style scoped>\n",
       "    .dataframe tbody tr th:only-of-type {\n",
       "        vertical-align: middle;\n",
       "    }\n",
       "\n",
       "    .dataframe tbody tr th {\n",
       "        vertical-align: top;\n",
       "    }\n",
       "\n",
       "    .dataframe thead th {\n",
       "        text-align: right;\n",
       "    }\n",
       "</style>\n",
       "<table border=\"1\" class=\"dataframe\">\n",
       "  <thead>\n",
       "    <tr style=\"text-align: right;\">\n",
       "      <th></th>\n",
       "      <th>airline</th>\n",
       "      <th>source_city</th>\n",
       "      <th>departure_time</th>\n",
       "      <th>stops</th>\n",
       "      <th>arrival_time</th>\n",
       "      <th>destination_city</th>\n",
       "      <th>class</th>\n",
       "      <th>days_left</th>\n",
       "      <th>price</th>\n",
       "    </tr>\n",
       "  </thead>\n",
       "  <tbody>\n",
       "    <tr>\n",
       "      <th>48672</th>\n",
       "      <td>Indigo</td>\n",
       "      <td>Mumbai</td>\n",
       "      <td>Morning</td>\n",
       "      <td>one</td>\n",
       "      <td>Afternoon</td>\n",
       "      <td>Delhi</td>\n",
       "      <td>Economy</td>\n",
       "      <td>23</td>\n",
       "      <td>8558</td>\n",
       "    </tr>\n",
       "    <tr>\n",
       "      <th>158607</th>\n",
       "      <td>SpiceJet</td>\n",
       "      <td>Delhi</td>\n",
       "      <td>Evening</td>\n",
       "      <td>one</td>\n",
       "      <td>Night</td>\n",
       "      <td>Mumbai</td>\n",
       "      <td>Economy</td>\n",
       "      <td>35</td>\n",
       "      <td>3371</td>\n",
       "    </tr>\n",
       "    <tr>\n",
       "      <th>156591</th>\n",
       "      <td>Vistara</td>\n",
       "      <td>Chennai</td>\n",
       "      <td>Night</td>\n",
       "      <td>one</td>\n",
       "      <td>Early_Morning</td>\n",
       "      <td>Hyderabad</td>\n",
       "      <td>Business</td>\n",
       "      <td>8</td>\n",
       "      <td>41064</td>\n",
       "    </tr>\n",
       "    <tr>\n",
       "      <th>146822</th>\n",
       "      <td>Air_India</td>\n",
       "      <td>Mumbai</td>\n",
       "      <td>Early_Morning</td>\n",
       "      <td>one</td>\n",
       "      <td>Evening</td>\n",
       "      <td>Chennai</td>\n",
       "      <td>Economy</td>\n",
       "      <td>24</td>\n",
       "      <td>5152</td>\n",
       "    </tr>\n",
       "    <tr>\n",
       "      <th>53231</th>\n",
       "      <td>Vistara</td>\n",
       "      <td>Kolkata</td>\n",
       "      <td>Evening</td>\n",
       "      <td>one</td>\n",
       "      <td>Morning</td>\n",
       "      <td>Delhi</td>\n",
       "      <td>Business</td>\n",
       "      <td>33</td>\n",
       "      <td>68303</td>\n",
       "    </tr>\n",
       "  </tbody>\n",
       "</table>\n",
       "</div>"
      ],
      "text/plain": [
       "          airline source_city departure_time stops   arrival_time  \\\n",
       "48672      Indigo      Mumbai        Morning   one      Afternoon   \n",
       "158607   SpiceJet       Delhi        Evening   one          Night   \n",
       "156591    Vistara     Chennai          Night   one  Early_Morning   \n",
       "146822  Air_India      Mumbai  Early_Morning   one        Evening   \n",
       "53231     Vistara     Kolkata        Evening   one        Morning   \n",
       "\n",
       "       destination_city     class  days_left  price  \n",
       "48672             Delhi   Economy         23   8558  \n",
       "158607           Mumbai   Economy         35   3371  \n",
       "156591        Hyderabad  Business          8  41064  \n",
       "146822          Chennai   Economy         24   5152  \n",
       "53231             Delhi  Business         33  68303  "
      ]
     },
     "execution_count": 5,
     "metadata": {},
     "output_type": "execute_result"
    }
   ],
   "source": [
    "data.sample(5)"
   ]
  },
  {
   "cell_type": "code",
   "execution_count": 7,
   "metadata": {},
   "outputs": [
    {
     "name": "stdout",
     "output_type": "stream",
     "text": [
      "['Air_India' 'Indigo' 'AirAsia' 'Vistara' 'SpiceJet' 'GO_FIRST']\n",
      "['Kolkata' 'Bangalore' 'Mumbai' 'Delhi' 'Hyderabad' 'Chennai']\n",
      "['Mumbai' 'Kolkata' 'Chennai' 'Hyderabad' 'Delhi' 'Bangalore']\n",
      "['one' 'zero' 'two_or_more']\n",
      "['Morning' 'Evening' 'Early_Morning' 'Afternoon' 'Late_Night' 'Night']\n",
      "['Night' 'Afternoon' 'Morning' 'Early_Morning' 'Evening' 'Late_Night']\n",
      "['Economy' 'Business']\n"
     ]
    }
   ],
   "source": [
    "# Getting unique values in airline, source_city, destination_city, stops, arrival_time, departure_time, class\n",
    "print(data['airline'].unique())\n",
    "print(data['source_city'].unique())\n",
    "print(data['destination_city'].unique())\n",
    "print(data['stops'].unique())\n",
    "print(data['arrival_time'].unique())\n",
    "print(data['departure_time'].unique())\n",
    "print(data['class'].unique())\n"
   ]
  },
  {
   "cell_type": "code",
   "execution_count": 10,
   "metadata": {},
   "outputs": [
    {
     "data": {
      "text/html": [
       "<div>\n",
       "<style scoped>\n",
       "    .dataframe tbody tr th:only-of-type {\n",
       "        vertical-align: middle;\n",
       "    }\n",
       "\n",
       "    .dataframe tbody tr th {\n",
       "        vertical-align: top;\n",
       "    }\n",
       "\n",
       "    .dataframe thead th {\n",
       "        text-align: right;\n",
       "    }\n",
       "</style>\n",
       "<table border=\"1\" class=\"dataframe\">\n",
       "  <thead>\n",
       "    <tr style=\"text-align: right;\">\n",
       "      <th></th>\n",
       "      <th>airline</th>\n",
       "      <th>source_city</th>\n",
       "      <th>departure_time</th>\n",
       "      <th>stops</th>\n",
       "      <th>arrival_time</th>\n",
       "      <th>destination_city</th>\n",
       "      <th>class</th>\n",
       "      <th>days_left</th>\n",
       "      <th>price</th>\n",
       "    </tr>\n",
       "  </thead>\n",
       "  <tbody>\n",
       "    <tr>\n",
       "      <th>43720</th>\n",
       "      <td>Air_India</td>\n",
       "      <td>Delhi</td>\n",
       "      <td>Early_Morning</td>\n",
       "      <td>one</td>\n",
       "      <td>Early_Morning</td>\n",
       "      <td>Hyderabad</td>\n",
       "      <td>Economy</td>\n",
       "      <td>34</td>\n",
       "      <td>4524</td>\n",
       "    </tr>\n",
       "    <tr>\n",
       "      <th>155692</th>\n",
       "      <td>Air_India</td>\n",
       "      <td>Chennai</td>\n",
       "      <td>Night</td>\n",
       "      <td>one</td>\n",
       "      <td>Evening</td>\n",
       "      <td>Mumbai</td>\n",
       "      <td>Business</td>\n",
       "      <td>33</td>\n",
       "      <td>49553</td>\n",
       "    </tr>\n",
       "    <tr>\n",
       "      <th>105424</th>\n",
       "      <td>Vistara</td>\n",
       "      <td>Chennai</td>\n",
       "      <td>Early_Morning</td>\n",
       "      <td>one</td>\n",
       "      <td>Evening</td>\n",
       "      <td>Kolkata</td>\n",
       "      <td>Business</td>\n",
       "      <td>7</td>\n",
       "      <td>54896</td>\n",
       "    </tr>\n",
       "    <tr>\n",
       "      <th>119438</th>\n",
       "      <td>Vistara</td>\n",
       "      <td>Bangalore</td>\n",
       "      <td>Evening</td>\n",
       "      <td>one</td>\n",
       "      <td>Late_Night</td>\n",
       "      <td>Delhi</td>\n",
       "      <td>Economy</td>\n",
       "      <td>44</td>\n",
       "      <td>4111</td>\n",
       "    </tr>\n",
       "    <tr>\n",
       "      <th>16718</th>\n",
       "      <td>Indigo</td>\n",
       "      <td>Chennai</td>\n",
       "      <td>Morning</td>\n",
       "      <td>zero</td>\n",
       "      <td>Morning</td>\n",
       "      <td>Mumbai</td>\n",
       "      <td>Economy</td>\n",
       "      <td>32</td>\n",
       "      <td>3572</td>\n",
       "    </tr>\n",
       "  </tbody>\n",
       "</table>\n",
       "</div>"
      ],
      "text/plain": [
       "          airline source_city departure_time stops   arrival_time  \\\n",
       "43720   Air_India       Delhi  Early_Morning   one  Early_Morning   \n",
       "155692  Air_India     Chennai          Night   one        Evening   \n",
       "105424    Vistara     Chennai  Early_Morning   one        Evening   \n",
       "119438    Vistara   Bangalore        Evening   one     Late_Night   \n",
       "16718      Indigo     Chennai        Morning  zero        Morning   \n",
       "\n",
       "       destination_city     class  days_left  price  \n",
       "43720         Hyderabad   Economy         34   4524  \n",
       "155692           Mumbai  Business         33  49553  \n",
       "105424          Kolkata  Business          7  54896  \n",
       "119438            Delhi   Economy         44   4111  \n",
       "16718            Mumbai   Economy         32   3572  "
      ]
     },
     "execution_count": 10,
     "metadata": {},
     "output_type": "execute_result"
    }
   ],
   "source": [
    "data.sample(5)\n"
   ]
  },
  {
   "cell_type": "code",
   "execution_count": 11,
   "metadata": {},
   "outputs": [],
   "source": [
    "#Manually encoding the categorical variables\n",
    "\n",
    "#Available airlines - 'Air_India' 'Indigo' 'AirAsia' 'Vistara' 'SpiceJet' 'GO_FIRST'\n",
    "#Available source cities - 'Kolkata' 'Bangalore' 'Mumbai' 'Delhi' 'Hyderabad' 'Chennai'\n",
    "#Available destination cities - 'Bangalore' 'Mumbai' 'Delhi' 'Hyderabad' 'Chennai' 'Kolkata'\n",
    "#Available stops - 'zero' 'one' 'two_or_more'\n",
    "#Available arrival times - 'Morning' 'Evening' 'Early_Morning' 'Afternoon' 'Late_Night' 'Night'\n",
    "#Available departure times - 'Morning' 'Evening' 'Early_Morning' 'Afternoon' 'Late_Night' 'Night'\n",
    "#Available classes - 'Economy' 'Business'\n",
    "\n",
    "data['airline'] = data['airline'].map({'Air_India':0, 'Indigo':1, 'AirAsia':2, 'Vistara':3, 'SpiceJet':4, 'GO_FIRST':5})\n",
    "data['source_city'] = data['source_city'].map({'Kolkata':0, 'Bangalore':1, 'Mumbai':2, 'Delhi':3, 'Hyderabad':4, 'Chennai':5})\n",
    "data['destination_city'] = data['destination_city'].map({'Bangalore':0, 'Mumbai':1, 'Delhi':2, 'Hyderabad':3, 'Chennai':4, 'Kolkata':5})\n",
    "data['stops'] = data['stops'].map({'zero':0, 'one':1, 'two_or_more':2})\n",
    "data['arrival_time'] = data['arrival_time'].map({'Morning':0, 'Evening':1, 'Early_Morning':2, 'Afternoon':3, 'Late_Night':4, 'Night':5})\n",
    "data['departure_time'] = data['departure_time'].map({'Morning':0, 'Evening':1, 'Early_Morning':2, 'Afternoon':3, 'Late_Night':4, 'Night':5})\n",
    "data['class'] = data['class'].map({'Economy':0, 'Business':1})\n"
   ]
  },
  {
   "cell_type": "code",
   "execution_count": 12,
   "metadata": {},
   "outputs": [
    {
     "data": {
      "text/html": [
       "<div>\n",
       "<style scoped>\n",
       "    .dataframe tbody tr th:only-of-type {\n",
       "        vertical-align: middle;\n",
       "    }\n",
       "\n",
       "    .dataframe tbody tr th {\n",
       "        vertical-align: top;\n",
       "    }\n",
       "\n",
       "    .dataframe thead th {\n",
       "        text-align: right;\n",
       "    }\n",
       "</style>\n",
       "<table border=\"1\" class=\"dataframe\">\n",
       "  <thead>\n",
       "    <tr style=\"text-align: right;\">\n",
       "      <th></th>\n",
       "      <th>airline</th>\n",
       "      <th>source_city</th>\n",
       "      <th>departure_time</th>\n",
       "      <th>stops</th>\n",
       "      <th>arrival_time</th>\n",
       "      <th>destination_city</th>\n",
       "      <th>class</th>\n",
       "      <th>days_left</th>\n",
       "      <th>price</th>\n",
       "    </tr>\n",
       "  </thead>\n",
       "  <tbody>\n",
       "    <tr>\n",
       "      <th>9360</th>\n",
       "      <td>3</td>\n",
       "      <td>4</td>\n",
       "      <td>5</td>\n",
       "      <td>1</td>\n",
       "      <td>5</td>\n",
       "      <td>4</td>\n",
       "      <td>1</td>\n",
       "      <td>24</td>\n",
       "      <td>41314</td>\n",
       "    </tr>\n",
       "    <tr>\n",
       "      <th>145839</th>\n",
       "      <td>3</td>\n",
       "      <td>1</td>\n",
       "      <td>1</td>\n",
       "      <td>1</td>\n",
       "      <td>5</td>\n",
       "      <td>3</td>\n",
       "      <td>0</td>\n",
       "      <td>4</td>\n",
       "      <td>7813</td>\n",
       "    </tr>\n",
       "    <tr>\n",
       "      <th>189802</th>\n",
       "      <td>3</td>\n",
       "      <td>0</td>\n",
       "      <td>2</td>\n",
       "      <td>1</td>\n",
       "      <td>1</td>\n",
       "      <td>0</td>\n",
       "      <td>1</td>\n",
       "      <td>19</td>\n",
       "      <td>60978</td>\n",
       "    </tr>\n",
       "    <tr>\n",
       "      <th>129408</th>\n",
       "      <td>3</td>\n",
       "      <td>1</td>\n",
       "      <td>1</td>\n",
       "      <td>0</td>\n",
       "      <td>5</td>\n",
       "      <td>1</td>\n",
       "      <td>0</td>\n",
       "      <td>42</td>\n",
       "      <td>2150</td>\n",
       "    </tr>\n",
       "    <tr>\n",
       "      <th>108026</th>\n",
       "      <td>0</td>\n",
       "      <td>1</td>\n",
       "      <td>3</td>\n",
       "      <td>1</td>\n",
       "      <td>0</td>\n",
       "      <td>1</td>\n",
       "      <td>0</td>\n",
       "      <td>31</td>\n",
       "      <td>5771</td>\n",
       "    </tr>\n",
       "  </tbody>\n",
       "</table>\n",
       "</div>"
      ],
      "text/plain": [
       "        airline  source_city  departure_time  stops  arrival_time  \\\n",
       "9360          3            4               5      1             5   \n",
       "145839        3            1               1      1             5   \n",
       "189802        3            0               2      1             1   \n",
       "129408        3            1               1      0             5   \n",
       "108026        0            1               3      1             0   \n",
       "\n",
       "        destination_city  class  days_left  price  \n",
       "9360                   4      1         24  41314  \n",
       "145839                 3      0          4   7813  \n",
       "189802                 0      1         19  60978  \n",
       "129408                 1      0         42   2150  \n",
       "108026                 1      0         31   5771  "
      ]
     },
     "execution_count": 12,
     "metadata": {},
     "output_type": "execute_result"
    }
   ],
   "source": [
    "data.sample(5)"
   ]
  },
  {
   "cell_type": "code",
   "execution_count": 13,
   "metadata": {},
   "outputs": [],
   "source": [
    "x = data.drop('price', axis=1)\n",
    "y = data['price']\n",
    "\n",
    "x_train, x_test, y_train, y_test = train_test_split(x, y, test_size=0.2, random_state=0)\n"
   ]
  },
  {
   "cell_type": "code",
   "execution_count": 16,
   "metadata": {},
   "outputs": [
    {
     "data": {
      "text/plain": [
       "ExtraTreesRegressor()"
      ]
     },
     "execution_count": 16,
     "metadata": {},
     "output_type": "execute_result"
    }
   ],
   "source": [
    "#Extra Trees Regressor\n",
    "from sklearn.ensemble import ExtraTreesRegressor\n",
    "\n",
    "important = ExtraTreesRegressor()\n",
    "important.fit(x_train, y_train)"
   ]
  },
  {
   "cell_type": "code",
   "execution_count": 17,
   "metadata": {},
   "outputs": [
    {
     "data": {
      "image/png": "[encoded data removed]",
      "text/plain": [
       "<Figure size 432x288 with 1 Axes>"
      ]
     },
     "metadata": {
      "needs_background": "light"
     },
     "output_type": "display_data"
    }
   ],
   "source": [
    "from pyexpat import features\n",
    "\n",
    "\n",
    "features = pd.Series(important.feature_importances_, index=x.columns)\n",
    "features.nlargest().plot(kind='barh')\n",
    "plt.show()"
   ]
  },
  {
   "cell_type": "code",
   "execution_count": 18,
   "metadata": {},
   "outputs": [
    {
     "data": {
      "text/plain": [
       "0.9044674126386911"
      ]
     },
     "execution_count": 18,
     "metadata": {},
     "output_type": "execute_result"
    }
   ],
   "source": [
    "#linear regression\n",
    "lr = LinearRegression()\n",
    "lr.fit(x_train, y_train)\n",
    "lr.score(x_test, y_test)"
   ]
  },
  {
   "cell_type": "code",
   "execution_count": 19,
   "metadata": {},
   "outputs": [],
   "source": [
    "#Saving the model\n",
    "import pickle\n",
    "file = open('linear.pkl', 'wb')"
   ]
  },
  {
   "cell_type": "code",
   "execution_count": 22,
   "metadata": {},
   "outputs": [
    {
     "data": {
      "text/plain": [
       "0.968029301020274"
      ]
     },
     "execution_count": 22,
     "metadata": {},
     "output_type": "execute_result"
    }
   ],
   "source": [
    "#XGBoost\n",
    "import xgboost\n",
    "regressor = xgboost.XGBRegressor()\n",
    "regressor.fit(x_train, y_train)\n",
    "\n",
    "\n",
    "#Saving the model\n",
    "file = open('xgboost.pkl', 'wb')\n",
    "\n",
    "regressor.score(x_test, y_test)\n"
   ]
  },
  {
   "cell_type": "code",
   "execution_count": 23,
   "metadata": {},
   "outputs": [
    {
     "data": {
      "text/plain": [
       "0.96236486246556"
      ]
     },
     "execution_count": 23,
     "metadata": {},
     "output_type": "execute_result"
    }
   ],
   "source": [
    "#Random Forest\n",
    "rf = RandomForestRegressor()\n",
    "rf.fit(x_train, y_train)\n",
    "\n",
    "\n",
    "#Saving the model\n",
    "file = open('random_forest.pkl', 'wb')\n",
    "\n",
    "rf.score(x_test, y_test)"
   ]
  },
  {
   "cell_type": "code",
   "execution_count": 28,
   "metadata": {},
   "outputs": [
    {
     "ename": "EOFError",
     "evalue": "Ran out of input",
     "output_type": "error",
     "traceback": [
      "\u001b[1;31m---------------------------------------------------------------------------\u001b[0m",
      "\u001b[1;31mEOFError\u001b[0m                                  Traceback (most recent call last)",
      "\u001b[1;32md:\\EPITA\\dsp\\flight\\flight_prediction_v2.ipynb Cell 17\u001b[0m in \u001b[0;36m<module>\u001b[1;34m\u001b[0m\n\u001b[0;32m      <a href='vscode-notebook-cell:/d%3A/EPITA/dsp/flight/flight_prediction_v2.ipynb#X25sZmlsZQ%3D%3D?line=0'>1</a>\u001b[0m \u001b[39m#Testing the model\u001b[39;00m\n\u001b[0;32m      <a href='vscode-notebook-cell:/d%3A/EPITA/dsp/flight/flight_prediction_v2.ipynb#X25sZmlsZQ%3D%3D?line=1'>2</a>\u001b[0m \n\u001b[0;32m      <a href='vscode-notebook-cell:/d%3A/EPITA/dsp/flight/flight_prediction_v2.ipynb#X25sZmlsZQ%3D%3D?line=2'>3</a>\u001b[0m \u001b[39m#Airline - Air_India\u001b[39;00m\n\u001b[1;32m   (...)\u001b[0m\n\u001b[0;32m     <a href='vscode-notebook-cell:/d%3A/EPITA/dsp/flight/flight_prediction_v2.ipynb#X25sZmlsZQ%3D%3D?line=12'>13</a>\u001b[0m \n\u001b[0;32m     <a href='vscode-notebook-cell:/d%3A/EPITA/dsp/flight/flight_prediction_v2.ipynb#X25sZmlsZQ%3D%3D?line=13'>14</a>\u001b[0m \u001b[39m#using the saved model to predict the price for user input\u001b[39;00m\n\u001b[1;32m---> <a href='vscode-notebook-cell:/d%3A/EPITA/dsp/flight/flight_prediction_v2.ipynb#X25sZmlsZQ%3D%3D?line=14'>15</a>\u001b[0m model \u001b[39m=\u001b[39m pickle\u001b[39m.\u001b[39;49mload(\u001b[39mopen\u001b[39;49m(\u001b[39m'\u001b[39;49m\u001b[39mrandom_forest.pkl\u001b[39;49m\u001b[39m'\u001b[39;49m, \u001b[39m'\u001b[39;49m\u001b[39mrb\u001b[39;49m\u001b[39m'\u001b[39;49m))\n\u001b[0;32m     <a href='vscode-notebook-cell:/d%3A/EPITA/dsp/flight/flight_prediction_v2.ipynb#X25sZmlsZQ%3D%3D?line=15'>16</a>\u001b[0m \u001b[39mprint\u001b[39m(model\u001b[39m.\u001b[39mpredict([[\u001b[39m1\u001b[39m, \u001b[39m2\u001b[39m, \u001b[39m1\u001b[39m, \u001b[39m0\u001b[39m, \u001b[39m0\u001b[39m, \u001b[39m1\u001b[39m, \u001b[39m1\u001b[39m, \u001b[39m10\u001b[39m]]))\n",
      "\u001b[1;31mEOFError\u001b[0m: Ran out of input"
     ]
    }
   ],
   "source": [
    "#Testing the model\n",
    "\n",
    "#Airline - Air_India\n",
    "#Source_city - Kolkata\n",
    "#Destination_city - Bangalore\n",
    "#Stops - zero\n",
    "#Arrival_time - Morning\n",
    "#Departure_time - Morning\n",
    "#Class - Economy\n",
    "#Days left - 10\n",
    "\n",
    "#print(model.predict([[1, 2, 1, 0, 0, 1, 1, 10]]))\n",
    "\n",
    "#using the saved model to predict the price for user input\n",
    "model = pickle.load(open('random_forest.pkl', 'rb'))\n",
    "print(model.predict([[1, 2, 1, 0, 0, 1, 1, 10]]))\n"
   ]
  },
  {
   "cell_type": "code",
   "execution_count": null,
   "metadata": {},
   "outputs": [],
   "source": []
  }
 ],
 "metadata": {
  "kernelspec": {
   "display_name": "Python 3.10.5 64-bit",
   "language": "python",
   "name": "python3"
  },
  "language_info": {
   "codemirror_mode": {
    "name": "ipython",
    "version": 3
   },
   "file_extension": ".py",
   "mimetype": "text/x-python",
   "name": "python",
   "nbconvert_exporter": "python",
   "pygments_lexer": "ipython3",
   "version": "3.10.5"
  },
  "orig_nbformat": 4,
  "vscode": {
   "interpreter": {
    "hash": "59bcba68049caa6032584fa8cc37388ee5f82798f985c16c8463475000088785"
   }
  }
 },
 "nbformat": 4,
 "nbformat_minor": 2
}
